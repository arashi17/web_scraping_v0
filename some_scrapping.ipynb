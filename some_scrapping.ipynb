{
 "cells": [
  {
   "cell_type": "code",
   "execution_count": 1,
   "metadata": {},
   "outputs": [],
   "source": [
    "import bs4 as bs\n",
    "import requests\n",
    "import pprint\n",
    "import json"
   ]
  },
  {
   "cell_type": "code",
   "execution_count": 2,
   "metadata": {},
   "outputs": [],
   "source": [
    "headers = {'User-Agent': 'Mozilla/5.0 (Windows NT 10.0; Win64; x64) AppleWebKit/537.36 (KHTML, like Gecko) Chrome/71.0.3578.98 Safari/537.36'}"
   ]
  },
  {
   "cell_type": "code",
   "execution_count": 3,
   "metadata": {},
   "outputs": [],
   "source": [
    "url = ['https://www.oddschecker.com/au/tennis', 'https://www.oddschecker.com/au/basketball', 'https://www.oddschecker.com/au/boxing-mma/ufc-mma']\n"
   ]
  },
  {
   "cell_type": "code",
   "execution_count": 4,
   "metadata": {},
   "outputs": [],
   "source": [
    "sauce = requests.get(url[1], headers=headers)\n",
    "soup = bs.BeautifulSoup(sauce.text, 'lxml')\n",
    "scripts = soup.findAll('script', {'id':'initial-data'})\n",
    "script_text = scripts[0].text\n",
    "script_json = json.loads(script_text)"
   ]
  },
  {
   "cell_type": "code",
   "execution_count": 7,
   "metadata": {},
   "outputs": [
    {
     "name": "stdout",
     "output_type": "stream",
     "text": [
      "'basketball/nba'\n"
     ]
    }
   ],
   "source": [
    "pprint.pprint(script_json['nav']['eventMenu']['select']['menu'][0]['url'])"
   ]
  },
  {
   "cell_type": "code",
   "execution_count": 8,
   "metadata": {
    "scrolled": true
   },
   "outputs": [
    {
     "name": "stdout",
     "output_type": "stream",
     "text": [
      "'https://www.oddschecker.com/au/'\n"
     ]
    }
   ],
   "source": [
    "pprint.pprint(script_json['config']['baseUrl'])"
   ]
  },
  {
   "cell_type": "code",
   "execution_count": 46,
   "metadata": {},
   "outputs": [
    {
     "name": "stdout",
     "output_type": "stream",
     "text": [
      "https://www.oddschecker.com/au/boxing-mma/ufc-mma\n"
     ]
    }
   ],
   "source": [
    "# url = script_json['config']['baseUrl'] + script_json['nav']['eventMenu']['select']['menu'][0]['url']\n",
    "url = 'https://www.oddschecker.com/au/boxing-mma/ufc-mma'\n",
    "print(url)"
   ]
  },
  {
   "cell_type": "code",
   "execution_count": 47,
   "metadata": {},
   "outputs": [],
   "source": [
    "sauce = requests.get(url, headers=headers)\n",
    "soup = bs.BeautifulSoup(sauce.text, 'lxml')\n",
    "scripts = soup.findAll('script', {'id':'initial-data'})\n",
    "script_text = scripts[0].text\n",
    "script_json = json.loads(script_text)"
   ]
  },
  {
   "cell_type": "code",
   "execution_count": 48,
   "metadata": {},
   "outputs": [
    {
     "name": "stdout",
     "output_type": "stream",
     "text": [
      "dict_keys(['rightHandContainer', 'nav', 'myoc', 'card', 'page', 'config', 'relatedTips', 'complete'])\n"
     ]
    }
   ],
   "source": [
    "pprint.pprint(script_json.keys())"
   ]
  },
  {
   "cell_type": "code",
   "execution_count": 52,
   "metadata": {
    "scrolled": true
   },
   "outputs": [
    {
     "name": "stdout",
     "output_type": "stream",
     "text": [
      "[{'awayName': '',\n",
      "  'bets': [{'bestOddsBookmakers': 'B3, UA',\n",
      "            'bestOddsDecimal': 2.4,\n",
      "            'bestOddsFractional': '7/5',\n",
      "            'bestOddsUS': 140,\n",
      "            'bestOpeningOddsDecimal': '2.62',\n",
      "            'betId': 26055623951,\n",
      "            'genericName': 'AWAY',\n",
      "            'map': 'emily-whitmire',\n",
      "            'name': 'Emily Whitmire',\n",
      "            'odds': []}],\n",
      "  'displayTitle': 'Aleksandra Albu v Emily Whitmire',\n",
      "  'genericNameSequence': 'HOME|DRAW|AWAY',\n",
      "  'homeName': '',\n",
      "  'isMainMarket': False,\n",
      "  'mainMarketUrl': 'boxing-mma/ufc-mma/aleksandra-albu-v-emily-whitmire/winner',\n",
      "  'name': 'Aleksandra Albu v Emily Whitmire',\n",
      "  'sortOptions': {'options': ['name', 'bestOddsDecimal'],\n",
      "                  'sortedBy': 'bestOddsDecimal'},\n",
      "  'startTime': '2019-02-17T23:30:00+00:00',\n",
      "  'type': 'match'},\n",
      " {'awayName': '',\n",
      "  'bets': [{'bestOddsBookmakers': 'SP',\n",
      "            'bestOddsDecimal': 2.59,\n",
      "            'bestOddsFractional': '27/17',\n",
      "            'bestOddsUS': 158,\n",
      "            'bestOpeningOddsDecimal': '2.75',\n",
      "            'betId': 26055621746,\n",
      "            'genericName': 'HOME',\n",
      "            'map': 'renan-barao',\n",
      "            'name': 'Renan Barao',\n",
      "            'odds': []},\n",
      "           {'bestOddsBookmakers': 'B3',\n",
      "            'bestOddsDecimal': 1.57,\n",
      "            'bestOddsFractional': '4/7',\n",
      "            'bestOddsUS': -175,\n",
      "            'bestOpeningOddsDecimal': '1.53',\n",
      "            'betId': 26055621745,\n",
      "            'genericName': 'AWAY',\n",
      "            'map': 'luke-sanders',\n",
      "            'name': 'Luke Sanders',\n",
      "            'odds': []}],\n",
      "  'displayTitle': 'Renan Barao v Luke Sanders',\n",
      "  'genericNameSequence': 'HOME|DRAW|AWAY',\n",
      "  'homeName': '',\n",
      "  'isMainMarket': False,\n",
      "  'mainMarketUrl': 'boxing-mma/ufc-mma/renan-barao-v-luke-sanders/winner',\n",
      "  'name': 'Renan Barao v Luke Sanders',\n",
      "  'sortOptions': {'options': ['name', 'bestOddsDecimal'],\n",
      "                  'sortedBy': 'bestOddsDecimal'},\n",
      "  'startTime': '2019-02-17T23:30:00+00:00',\n",
      "  'type': 'match'},\n",
      " {'awayName': '',\n",
      "  'bets': [{'bestOddsBookmakers': 'UA',\n",
      "            'bestOddsDecimal': 1.61,\n",
      "            'bestOddsFractional': '11/18',\n",
      "            'bestOddsUS': -163,\n",
      "            'bestOpeningOddsDecimal': '1.57',\n",
      "            'betId': 26055622215,\n",
      "            'genericName': 'HOME',\n",
      "            'map': 'jessica-penne',\n",
      "            'name': 'Jessica Penne',\n",
      "            'odds': []},\n",
      "           {'bestOddsBookmakers': 'SP',\n",
      "            'bestOddsDecimal': 2.41,\n",
      "            'bestOddsFractional': '24/17',\n",
      "            'bestOddsUS': 141,\n",
      "            'bestOpeningOddsDecimal': '2.50',\n",
      "            'betId': 26055622213,\n",
      "            'genericName': 'AWAY',\n",
      "            'map': 'jodie-esquibel',\n",
      "            'name': 'Jodie Esquibel',\n",
      "            'odds': []}],\n",
      "  'displayTitle': 'Jessica Penne v Jodie Esquibel',\n",
      "  'genericNameSequence': 'HOME|DRAW|AWAY',\n",
      "  'homeName': '',\n",
      "  'isMainMarket': False,\n",
      "  'mainMarketUrl': 'boxing-mma/ufc-mma/jessica-penne-v-jodie-esquibel/winner',\n",
      "  'name': 'Jessica Penne v Jodie Esquibel',\n",
      "  'sortOptions': {'options': ['name', 'bestOddsDecimal'],\n",
      "                  'sortedBy': 'bestOddsDecimal'},\n",
      "  'startTime': '2019-02-17T23:30:00+00:00',\n",
      "  'type': 'match'}]\n"
     ]
    }
   ],
   "source": [
    "pprint.pprint(script_json['card']['matches'][0]['cards'][0]['data'])"
   ]
  },
  {
   "cell_type": "code",
   "execution_count": 40,
   "metadata": {},
   "outputs": [
    {
     "name": "stdout",
     "output_type": "stream",
     "text": [
      "22\n"
     ]
    }
   ],
   "source": [
    "pprint.pprint(len(script_json['card']['matches'][0]['cards'][0]['data']))"
   ]
  },
  {
   "cell_type": "code",
   "execution_count": 55,
   "metadata": {},
   "outputs": [
    {
     "name": "stdout",
     "output_type": "stream",
     "text": [
      "2019-02-12 22:21:23.460674\n"
     ]
    }
   ],
   "source": [
    "import datetime as dt\n",
    "print(dt.datetime.now())"
   ]
  }
 ],
 "metadata": {
  "kernelspec": {
   "display_name": "Python 3",
   "language": "python",
   "name": "python3"
  },
  "language_info": {
   "codemirror_mode": {
    "name": "ipython",
    "version": 3
   },
   "file_extension": ".py",
   "mimetype": "text/x-python",
   "name": "python",
   "nbconvert_exporter": "python",
   "pygments_lexer": "ipython3",
   "version": "3.7.0"
  }
 },
 "nbformat": 4,
 "nbformat_minor": 2
}
