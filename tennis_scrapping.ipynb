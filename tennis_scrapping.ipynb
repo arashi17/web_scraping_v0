{
 "cells": [
  {
   "cell_type": "code",
   "execution_count": 1,
   "metadata": {},
   "outputs": [],
   "source": [
    "import bs4 as bs\n",
    "import requests\n",
    "import pprint\n",
    "import json"
   ]
  },
  {
   "cell_type": "code",
   "execution_count": 2,
   "metadata": {},
   "outputs": [],
   "source": [
    "headers = {'User-Agent': 'Mozilla/5.0 (Windows NT 10.0; Win64; x64) AppleWebKit/537.36 (KHTML, like Gecko) Chrome/71.0.3578.98 Safari/537.36'}"
   ]
  },
  {
   "cell_type": "code",
   "execution_count": 5,
   "metadata": {},
   "outputs": [],
   "source": [
    "url = 'https://www.oddschecker.com/au/tennis'\n",
    "sauce = requests.get(url, headers=headers)\n",
    "soup = bs.BeautifulSoup(sauce.text, 'lxml')\n",
    "scripts = soup.findAll('script', {'id':'initial-data'})"
   ]
  },
  {
   "cell_type": "code",
   "execution_count": 8,
   "metadata": {},
   "outputs": [],
   "source": [
    "script_text = scripts[0].text\n",
    "script_json = json.loads(script_text)"
   ]
  },
  {
   "cell_type": "code",
   "execution_count": 30,
   "metadata": {
    "scrolled": true
   },
   "outputs": [
    {
     "name": "stdout",
     "output_type": "stream",
     "text": [
      "['https://www.oddschecker.com/au/basketball/nba', 'https://www.oddschecker.com/au/basketball/nbl', 'https://www.oddschecker.com/au/basketball/ncaab']\n"
     ]
    }
   ],
   "source": [
    "soup = bs.BeautifulSoup(sauce.text, 'lxml')\n",
    "scripts = soup.findAll('script', {'id':'initial-data'})\n",
    "script_text = scripts[0].text\n",
    "script_json = json.loads(script_text)\n",
    "base_url = script_json['config']['baseUrl']\n",
    "url_list = []\n",
    "for i in range(len(script_json['nav']['eventMenu']['select']['menu'])):\n",
    "    comp_url = script_json['nav']['eventMenu']['select']['menu'][i]['url']\n",
    "    url_list.append(base_url + comp_url)\n",
    "print(url_list)"
   ]
  }
 ],
 "metadata": {
  "kernelspec": {
   "display_name": "Python 3",
   "language": "python",
   "name": "python3"
  },
  "language_info": {
   "codemirror_mode": {
    "name": "ipython",
    "version": 3
   },
   "file_extension": ".py",
   "mimetype": "text/x-python",
   "name": "python",
   "nbconvert_exporter": "python",
   "pygments_lexer": "ipython3",
   "version": "3.7.0"
  }
 },
 "nbformat": 4,
 "nbformat_minor": 2
}
