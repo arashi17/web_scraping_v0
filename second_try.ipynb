{
 "cells": [
  {
   "cell_type": "code",
   "execution_count": 25,
   "metadata": {},
   "outputs": [],
   "source": [
    "import bs4 as bs\n",
    "import requests\n",
    "import pprint\n",
    "import json"
   ]
  },
  {
   "cell_type": "code",
   "execution_count": 26,
   "metadata": {},
   "outputs": [],
   "source": [
    "headers = {'User-Agent': 'Mozilla/5.0 (Windows NT 10.0; Win64; x64) AppleWebKit/537.36 (KHTML, like Gecko) Chrome/71.0.3578.98 Safari/537.36'}"
   ]
  },
  {
   "cell_type": "code",
   "execution_count": 27,
   "metadata": {},
   "outputs": [],
   "source": [
    "url_nba = 'https://www.oddschecker.com/au/basketball/nbl'"
   ]
  },
  {
   "cell_type": "code",
   "execution_count": 28,
   "metadata": {},
   "outputs": [],
   "source": [
    "sauce = requests.get(url_nba, headers=headers)"
   ]
  },
  {
   "cell_type": "code",
   "execution_count": 29,
   "metadata": {},
   "outputs": [],
   "source": [
    "soup = bs.BeautifulSoup(sauce.text, 'lxml')"
   ]
  },
  {
   "cell_type": "code",
   "execution_count": 30,
   "metadata": {},
   "outputs": [],
   "source": [
    "scripts = soup.findAll('script', {'id':'initial-data'})"
   ]
  },
  {
   "cell_type": "code",
   "execution_count": 31,
   "metadata": {},
   "outputs": [],
   "source": [
    "script_text = scripts[0].text"
   ]
  },
  {
   "cell_type": "code",
   "execution_count": 32,
   "metadata": {},
   "outputs": [],
   "source": [
    "script_json = json.loads(script_text)"
   ]
  },
  {
   "cell_type": "code",
   "execution_count": 33,
   "metadata": {},
   "outputs": [],
   "source": [
    "index_game = 0"
   ]
  },
  {
   "cell_type": "code",
   "execution_count": 34,
   "metadata": {},
   "outputs": [],
   "source": [
    "index_team = 0"
   ]
  },
  {
   "cell_type": "code",
   "execution_count": 39,
   "metadata": {},
   "outputs": [
    {
     "name": "stdout",
     "output_type": "stream",
     "text": [
      "0\n"
     ]
    }
   ],
   "source": [
    "pprint.pprint(len(script_json['card']['matches']))"
   ]
  },
  {
   "cell_type": "code",
   "execution_count": 12,
   "metadata": {
    "scrolled": true
   },
   "outputs": [
    {
     "name": "stdout",
     "output_type": "stream",
     "text": [
      "{'bestOddsBookmakers': 'B3',\n",
      " 'bestOddsDecimal': 1.37,\n",
      " 'bestOddsFractional': '10/27',\n",
      " 'bestOddsUS': -270,\n",
      " 'bestOpeningOddsDecimal': '4.60',\n",
      " 'betId': 26080379978,\n",
      " 'genericName': 'AWAY',\n",
      " 'map': 'uc-davis',\n",
      " 'name': 'UC Davis',\n",
      " 'odds': []}\n"
     ]
    }
   ],
   "source": [
    "pprint.pprint(script_json['card']['matches'][0]['cards'][0]['data'][index_game]['bets'][index_team+1])"
   ]
  },
  {
   "cell_type": "code",
   "execution_count": 20,
   "metadata": {},
   "outputs": [],
   "source": [
    "def calc_arb(game):\n",
    "    odds_team_a = game[0]['odds']\n",
    "    odds_team_b = game[1]['odds']\n",
    "    calc = (1/odds_team_a) + (1/odds_team_b)\n",
    "    return calc"
   ]
  },
  {
   "cell_type": "code",
   "execution_count": 24,
   "metadata": {},
   "outputs": [
    {
     "name": "stdout",
     "output_type": "stream",
     "text": [
      "New Game\n",
      "Odds: 1.0474\n",
      "[{'name': 'Santa Barbara Gauchos', 'odds': 3.15, 'where': 'B3'}, {'name': 'UC Davis', 'odds': 1.37, 'where': 'B3'}, {'arbitrage': False, 'total_odds': 1.0473873247595875}]\n",
      "New Game\n",
      "Odds: 1.0505\n",
      "[{'name': 'St Peter', 'odds': 1.95, 'where': 'CR, TP'}, {'name': 'Canisius Golden Griffins', 'odds': 1.86, 'where': 'UA'}, {'arbitrage': False, 'total_odds': 1.0504549214226633}]\n",
      "New Game\n",
      "Odds: 1.0475\n",
      "[{'name': 'Indiana', 'odds': 1.73, 'where': 'UA'}, {'name': 'Ohio State Buckeyes', 'odds': 2.13, 'where': 'CR'}, {'arbitrage': False, 'total_odds': 1.0475182501560423}]\n",
      "New Game\n",
      "Odds: 1.0568\n",
      "[{'name': 'Iona Gaels', 'odds': 1.26, 'where': 'CR, TP, UA'}, {'name': 'Niagara Purple Eagles', 'odds': 3.8, 'where': 'UA'}, {'arbitrage': False, 'total_odds': 1.0568086883876358}]\n",
      "New Game\n",
      "Odds: 1.0531\n",
      "[{'name': 'Southern Methodist Mustangs', 'odds': 1.86, 'where': 'UA'}, {'name': 'Central Florida', 'odds': 1.94, 'where': 'CR, TP, UA'}, {'arbitrage': False, 'total_odds': 1.0530983261279236}]\n",
      "New Game\n",
      "Odds: 1.0530\n",
      "[{'name': 'Memphis', 'odds': 1.29, 'where': 'CR, TP, UA'}, {'name': 'Connecticut', 'odds': 3.6, 'where': 'UA'}, {'arbitrage': False, 'total_odds': 1.0529715762273901}]\n",
      "New Game\n",
      "Odds: 1.0525\n",
      "[{'name': 'George Mason Patriots', 'odds': 1.37, 'where': 'CR, TP, UA'}, {'name': 'La Salle Explorers', 'odds': 3.1, 'where': 'UA'}, {'arbitrage': False, 'total_odds': 1.0525076524605603}]\n",
      "New Game\n",
      "Odds: 1.0540\n",
      "[{'name': 'South Dakota', 'odds': 1.34, 'where': 'UA'}, {'name': 'Oral Roberts Golden Eagles', 'odds': 3.25, 'where': 'CR, TP, UA'}, {'arbitrage': False, 'total_odds': 1.0539609644087256}]\n",
      "New Game\n",
      "Odds: 1.0478\n",
      "[{'name': 'Rider', 'odds': 1.36, 'where': 'UA'}, {'name': 'Siena', 'odds': 3.2, 'where': 'CR, TP'}, {'arbitrage': False, 'total_odds': 1.0477941176470589}]\n",
      "New Game\n",
      "Odds: 1.0533\n",
      "[{'name': 'Houston', 'odds': 1.4, 'where': 'CR, UA'}, {'name': 'Cincinnati Bearcats', 'odds': 2.95, 'where': 'UA'}, {'arbitrage': False, 'total_odds': 1.053268765133172}]\n",
      "New Game\n",
      "Odds: 1.0533\n",
      "[{'name': 'Missouri State Bears', 'odds': 1.4, 'where': 'UA'}, {'name': 'Illinois State Redbirds', 'odds': 2.95, 'where': 'UA'}, {'arbitrage': False, 'total_odds': 1.053268765133172}]\n",
      "New Game\n",
      "Odds: 1.0508\n",
      "[{'name': 'Valparaiso Crusaders', 'odds': 2.23, 'where': 'UA'}, {'name': 'Loyola Chicago', 'odds': 1.66, 'where': 'UA'}, {'arbitrage': False, 'total_odds': 1.0508401318277596}]\n",
      "New Game\n",
      "Odds: 1.0596\n",
      "[{'name': 'South Florida Bulls', 'odds': 1.07, 'where': 'CR, TP, UA'}, {'name': 'East Carolina Pirates', 'odds': 8, 'where': 'UA'}, {'arbitrage': False, 'total_odds': 1.0595794392523366}]\n",
      "New Game\n",
      "Odds: 1.0596\n",
      "[{'name': 'Notre Dame Fighting Irish', 'odds': 1.39, 'where': 'CR, TP'}, {'name': 'Georgia Tech Yellow Jackets', 'odds': 2.94, 'where': 'CR, TP'}, {'arbitrage': False, 'total_odds': 1.0595605148534235}]\n",
      "New Game\n",
      "Odds: 1.0630\n",
      "[{'name': 'Iowa Hawkeyes', 'odds': 1.23, 'where': 'CR, TP'}, {'name': 'Northwestern Wildcats', 'odds': 4, 'where': 'CR, TP'}, {'arbitrage': False, 'total_odds': 1.0630081300813008}]\n"
     ]
    }
   ],
   "source": [
    "for j in range(len(script_json['card']['matches'][0]['cards'][0]['data'])):\n",
    "    print('New Game')\n",
    "    game_data = []\n",
    "    for i in range(2):\n",
    "        temp = script_json['card']['matches'][0]['cards'][0]['data'][j]['bets'][i]\n",
    "        odds_data = {}\n",
    "        odds_data['name'] = temp['name']\n",
    "        odds_data['odds'] = temp['bestOddsDecimal']\n",
    "        odds_data['where'] = temp['bestOddsBookmakers']\n",
    "        game_data.append(odds_data)\n",
    "    odds_total = calc_arb(game_data)\n",
    "    print('Odds: %.4f' % odds_total)\n",
    "    if odds_total < 1.0:\n",
    "        game_info = {'arbitrage': True, 'total_odds': odds_total}\n",
    "    else:\n",
    "        game_info = {'arbitrage': False, 'total_odds': odds_total}\n",
    "    game_data.append(game_info)\n",
    "    print(game_data)"
   ]
  }
 ],
 "metadata": {
  "kernelspec": {
   "display_name": "Python 3",
   "language": "python",
   "name": "python3"
  },
  "language_info": {
   "codemirror_mode": {
    "name": "ipython",
    "version": 3
   },
   "file_extension": ".py",
   "mimetype": "text/x-python",
   "name": "python",
   "nbconvert_exporter": "python",
   "pygments_lexer": "ipython3",
   "version": "3.7.0"
  }
 },
 "nbformat": 4,
 "nbformat_minor": 2
}
